{
  "cells": [
    {
      "cell_type": "markdown",
      "metadata": {
        "id": "ItbhSpGmao-r"
      },
      "source": [
        "# LeNet\n",
        "\n",
        "here I rebuild the LeNet famous architecture from Yan LeCun, th efirst CNN network to outperform over cifar dataset"
      ]
    },
    {
      "cell_type": "code",
      "execution_count": 42,
      "metadata": {
        "id": "BOycD7FFaj4G"
      },
      "outputs": [],
      "source": [
        "import torch \n",
        "from torch import nn, optim\n",
        "from torch.utils.data import Dataset\n",
        "from torch.utils.data import DataLoader\n",
        "from torchvision import datasets, transforms\n",
        "import numpy as np\n",
        "\n",
        "device = torch.device('cuda' if torch.cuda.is_available() else 'cpu')"
      ]
    },
    {
      "cell_type": "code",
      "execution_count": 43,
      "metadata": {
        "id": "2Dq22W6BbJGz"
      },
      "outputs": [],
      "source": [
        "def init_cnn(module):\n",
        "  if type(module) == nn.Linear or type(module) == nn.Conv2d:\n",
        "    nn.init.xavier_uniform_(module.weight)"
      ]
    },
    {
      "cell_type": "code",
      "execution_count": 59,
      "metadata": {
        "id": "8dJT80Axbwdy"
      },
      "outputs": [],
      "source": [
        "class LeNet(nn.Module):\n",
        "  def __init__(self, num_classes=10):\n",
        "    super().__init__()\n",
        "    self.net = nn.Sequential(\n",
        "        nn.LazyConv2d(6, kernel_size=5, padding=2),\n",
        "        nn.Sigmoid(), nn.AvgPool2d(kernel_size=2, stride=2),\n",
        "        nn.LazyConv2d(16, kernel_size=5),\n",
        "        nn.Sigmoid(), nn.AvgPool2d(kernel_size=2, stride=2),\n",
        "        nn.Flatten(),\n",
        "        nn.LazyLinear(120), nn.Sigmoid(),\n",
        "        nn.LazyLinear(84), nn.Sigmoid(),\n",
        "        nn.LazyLinear(num_classes)\n",
        "    )\n",
        "  \n",
        "  def forward(self, X):\n",
        "    return self.net(X)\n",
        "\n",
        "  def layer_summary(self, X_shape):\n",
        "    X = torch.randn(*X_shape).to(device)\n",
        "    print('X', 'output shape:\\t', X.shape)\n",
        "    for layer in self.net:\n",
        "      X = layer(X)\n",
        "      print(layer.__class__.__name__, 'output shape:\\t', X.shape)"
      ]
    },
    {
      "cell_type": "code",
      "source": [
        "def accuracy(X, y):\n",
        "  out = model(X.to(device)).argmax(axis=1).to('cpu')\n",
        "  compare = (out == y).type(torch.float32)\n",
        "  return compare.mean()"
      ],
      "metadata": {
        "id": "9uApdpTVJxpg"
      },
      "execution_count": 60,
      "outputs": []
    },
    {
      "cell_type": "code",
      "execution_count": 61,
      "metadata": {
        "id": "oFRi1-NaJ4hb"
      },
      "outputs": [],
      "source": [
        "#general purpose dataset dataloader\n",
        "class LeNet_Dataset(Dataset):\n",
        "  def __init__(self, file):\n",
        "    super.__init__()\n",
        "    self.X = None\n",
        "    self.y = None\n",
        "\n",
        "  def __len__(self):\n",
        "    raise  NotImplemented\n",
        "\n",
        "  def __getitem__(self, idx):\n",
        "    return {\"X\": self.X[idx], 'y': self.y[idx]}\n",
        "    \n",
        "#LeNet_data = LeNet_Dataset() \n",
        "#LeNet_loader = DataLoader(LeNet_data ,batch_size=8, shuffle=True, num_workers=4, pin_memory=True)\n"
      ]
    },
    {
      "cell_type": "code",
      "execution_count": 62,
      "metadata": {
        "colab": {
          "base_uri": "https://localhost:8080/"
        },
        "id": "CeZFgixzeXXM",
        "outputId": "610c7fff-5dcf-40f5-db2a-e3317f017b58"
      },
      "outputs": [
        {
          "output_type": "stream",
          "name": "stdout",
          "text": [
            "60000 10000 375 94 79\n"
          ]
        }
      ],
      "source": [
        "def get_model():\n",
        "\n",
        "  device = torch.device('cuda' if torch.cuda.is_available() else 'cpu')\n",
        "  model = LeNet().to(device)\n",
        "  model.layer_summary((1, 1, 28, 28))\n",
        "  return model, optim.SGD(model.parameters(), lr=0.1), nn.CrossEntropyLoss()\n",
        "\n",
        "def data_preparation(batch = 128):\n",
        "\n",
        "  transform = transforms.Compose([transforms.ToTensor(), transforms.Normalize((0.5,), (0.5,))])\n",
        "\n",
        "  data_train = datasets.FashionMNIST('~/.pytorch/F_MNIST_data', train=True, transform=transform, download = True);\n",
        "  data_test = datasets.FashionMNIST('~/.pytorch/F_MNIST_data', train=False, transform=transform, download = True);\n",
        "\n",
        "  split1 = int(np.floor(0.8*len(data_train)))\n",
        "  split2 = int(np.floor(0.2*len(data_train)))\n",
        "  train = data_train\n",
        "  test = data_test\n",
        "\n",
        "  bs = batch\n",
        "  train_dl = DataLoader(train ,batch_size=bs, shuffle=False, sampler=range(split1), num_workers=4, pin_memory=True)\n",
        "  val_dl = DataLoader(train ,batch_size=bs, shuffle=False, sampler=range(split2), num_workers=4, pin_memory=True)\n",
        "  test_dl = DataLoader(test ,batch_size=bs, shuffle=True, num_workers=4, pin_memory=True)\n",
        "\n",
        "  print(len(train), len(test), len(train_dl) ,len(val_dl), len(test_dl))\n",
        "\n",
        "  return train_dl, val_dl, test_dl\n",
        "\n",
        "train_dl, val_dl, test_dl = data_preparation()\n"
      ]
    },
    {
      "cell_type": "code",
      "source": [
        "model, opt, loss_f = get_model()\n",
        "\n",
        "#here we chose the weights initialization we have to pass an example imput to comput dimentions because we are using lazy layers\n",
        "model.apply(init_cnn);"
      ],
      "metadata": {
        "colab": {
          "base_uri": "https://localhost:8080/"
        },
        "id": "TYeFsp8yercJ",
        "outputId": "a7982239-1518-4e85-802d-7005a5d182b9"
      },
      "execution_count": 64,
      "outputs": [
        {
          "output_type": "stream",
          "name": "stdout",
          "text": [
            "X output shape:\t torch.Size([1, 1, 28, 28])\n",
            "Conv2d output shape:\t torch.Size([1, 6, 28, 28])\n",
            "Sigmoid output shape:\t torch.Size([1, 6, 28, 28])\n",
            "AvgPool2d output shape:\t torch.Size([1, 6, 14, 14])\n",
            "Conv2d output shape:\t torch.Size([1, 16, 10, 10])\n",
            "Sigmoid output shape:\t torch.Size([1, 16, 10, 10])\n",
            "AvgPool2d output shape:\t torch.Size([1, 16, 5, 5])\n",
            "Flatten output shape:\t torch.Size([1, 400])\n",
            "Linear output shape:\t torch.Size([1, 120])\n",
            "Sigmoid output shape:\t torch.Size([1, 120])\n",
            "Linear output shape:\t torch.Size([1, 84])\n",
            "Sigmoid output shape:\t torch.Size([1, 84])\n",
            "Linear output shape:\t torch.Size([1, 10])\n"
          ]
        }
      ]
    },
    {
      "cell_type": "code",
      "execution_count": 66,
      "metadata": {
        "colab": {
          "base_uri": "https://localhost:8080/"
        },
        "id": "gvrswiXDJ30s",
        "outputId": "61fb55bb-c527-48e8-dc56-84d5a86f3a7d"
      },
      "outputs": [
        {
          "output_type": "stream",
          "name": "stdout",
          "text": [
            "Epoch: 0, loss = 2.307462759017944, v_loss = 2.304942011833191, accuracy = 0.0995846539735794\n",
            "Epoch: 1, loss = 2.2985608088175455, v_loss = 2.2649469324882996, accuracy = 0.17637459933757782\n",
            "Epoch: 2, loss = 2.120459870974223, v_loss = 1.9535786742014243, accuracy = 0.29341375827789307\n",
            "Epoch: 3, loss = 1.884783267656962, v_loss = 1.729645513156627, accuracy = 0.37097012996673584\n",
            "Epoch: 4, loss = 1.706604715601603, v_loss = 1.5689426895151748, accuracy = 0.42838212847709656\n",
            "Epoch: 5, loss = 1.569400276237064, v_loss = 1.4468054082376738, accuracy = 0.47217828035354614\n",
            "Epoch: 6, loss = 1.460725324017661, v_loss = 1.3504816808236768, accuracy = 0.5061454772949219\n",
            "Epoch: 7, loss = 1.3722259431878725, v_loss = 1.2718935745193602, accuracy = 0.5335987210273743\n",
            "Epoch: 8, loss = 1.2987195489318282, v_loss = 1.2067235084712928, accuracy = 0.5563796758651733\n",
            "Epoch: 9, loss = 1.236995688867569, v_loss = 1.1520274728536606, accuracy = 0.5751582384109497\n",
            "Epoch: 10, loss = 1.1845588351885479, v_loss = 1.1054850585859564, accuracy = 0.5911698341369629\n",
            "Epoch: 11, loss = 1.1394193896253904, v_loss = 1.0653141573441367, accuracy = 0.604875385761261\n",
            "Epoch: 12, loss = 1.1000556131570767, v_loss = 1.03018084975682, accuracy = 0.6167843341827393\n",
            "Epoch: 13, loss = 1.0653243211734862, v_loss = 0.9990899710714998, accuracy = 0.627500593662262\n",
            "Epoch: 14, loss = 1.0343633541689978, v_loss = 0.9712928306549153, accuracy = 0.6370121240615845\n"
          ]
        }
      ],
      "source": [
        "epochs = 15\n",
        "train_loss = []\n",
        "val_loss = []\n",
        "acc = []\n",
        "t_loss, v_loss, a = [], [], []\n",
        "\n",
        "#train\n",
        "for epoch in range(epochs):\n",
        "  model.train()\n",
        "  for X, y in train_dl:\n",
        "\n",
        "    X = X.to(device)\n",
        "    y = y.to(device)\n",
        "    opt.zero_grad()\n",
        "    out = model(X)\n",
        "    \n",
        "    loss = loss_f(out, y)\n",
        "    \n",
        "    loss.backward()\n",
        "    opt.step()\n",
        "    #print(out,train_loss)\n",
        "    t_loss.append(loss.item())    \n",
        "  train_loss.append(np.mean(t_loss))\n",
        "  \n",
        "  model.eval()\n",
        "  for X, y in val_dl:\n",
        "    with torch.no_grad():\n",
        "      out = model(X.to(device))\n",
        "      v_loss.append(loss_f(out, y.to(device)).item())\n",
        "  val_loss.append(np.mean(v_loss))\n",
        "\n",
        "  for X, y in test_dl:\n",
        "    with torch.no_grad():\n",
        "      a.append(accuracy(X, y))\n",
        "  acc.append(np.mean(a))\n",
        "    \n",
        "  print(\"Epoch: {}, loss = {}, v_loss = {}, accuracy = {}\".format(epoch, train_loss[-1], val_loss[-1], acc[-1]))"
      ]
    },
    {
      "cell_type": "code",
      "execution_count": 67,
      "metadata": {
        "id": "4fzW4bLkuu48",
        "colab": {
          "base_uri": "https://localhost:8080/",
          "height": 283
        },
        "outputId": "c4397ef5-ad12-4978-a83c-4aa2fe0c2300"
      },
      "outputs": [
        {
          "output_type": "execute_result",
          "data": {
            "text/plain": [
              "[<matplotlib.lines.Line2D at 0x7f0f08fb5dd0>]"
            ]
          },
          "metadata": {},
          "execution_count": 67
        },
        {
          "output_type": "display_data",
          "data": {
            "text/plain": [
              "<Figure size 432x288 with 1 Axes>"
            ],
            "image/png": "[encoded data removed]"
          },
          "metadata": {
            "needs_background": "light"
          }
        }
      ],
      "source": [
        "import matplotlib.pyplot as plt\n",
        "plt.plot(train_loss)\n",
        "plt.plot(val_loss)\n",
        "plt.plot(acc)"
      ]
    },
    {
      "cell_type": "code",
      "execution_count": 41,
      "metadata": {
        "colab": {
          "base_uri": "https://localhost:8080/"
        },
        "id": "JeckO7vhxTN0",
        "outputId": "627eddb1-5af4-4468-ec23-8c58780021d0"
      },
      "outputs": [
        {
          "output_type": "stream",
          "name": "stderr",
          "text": [
            "/usr/local/lib/python3.7/dist-packages/torch/utils/data/dataloader.py:566: UserWarning: This DataLoader will create 4 worker processes in total. Our suggested max number of worker in current system is 2, which is smaller than what this DataLoader is going to create. Please be aware that excessive worker creation might get DataLoader running slow or even freeze, lower the worker number to avoid potential slowness/freeze if necessary.\n",
            "  cpuset_checked))\n"
          ]
        },
        {
          "output_type": "execute_result",
          "data": {
            "text/plain": [
              "(tensor([9, 5, 8, 7, 4, 8, 4, 3, 4, 9, 3, 2, 6, 5, 5, 8, 6, 8, 3, 3, 3, 7, 8, 3,\n",
              "         1, 5, 4, 3, 7, 3, 2, 9, 5, 2, 7, 0, 0, 5, 2, 7, 0, 9, 0, 4, 8, 7, 3, 2,\n",
              "         1, 5, 8, 4, 5, 2, 1, 2, 3, 4, 0, 4, 9, 5, 1, 0, 3, 1, 3, 5, 5, 1, 7, 5,\n",
              "         7, 2, 9, 5, 8, 2, 4, 0, 7, 4, 0, 2, 9, 3, 3, 1, 8, 7, 7, 9, 1, 9, 7, 0,\n",
              "         4, 2, 0, 7, 4, 7, 9, 9, 5, 8, 8, 3, 6, 9, 4, 0, 4, 3, 3, 3, 0, 3, 4, 5,\n",
              "         9, 5, 7, 8, 1, 1, 9, 8], device='cuda:0'),\n",
              " tensor([7, 5, 8, 7, 6, 8, 2, 3, 3, 9, 0, 4, 6, 5, 5, 8, 6, 8, 0, 0, 3, 7, 8, 3,\n",
              "         1, 5, 4, 3, 5, 3, 2, 9, 5, 6, 7, 2, 6, 7, 6, 7, 0, 9, 0, 4, 8, 7, 2, 6,\n",
              "         1, 5, 8, 4, 5, 2, 1, 6, 3, 4, 0, 4, 9, 5, 1, 0, 3, 1, 2, 5, 5, 1, 7, 5,\n",
              "         7, 2, 9, 5, 8, 2, 6, 6, 7, 2, 0, 2, 9, 3, 3, 1, 8, 7, 7, 9, 1, 9, 7, 6,\n",
              "         4, 2, 0, 7, 6, 5, 9, 9, 5, 8, 8, 3, 4, 9, 1, 6, 4, 3, 1, 1, 3, 3, 4, 5,\n",
              "         9, 5, 7, 8, 1, 1, 9, 8]),\n",
              " 0.555963397026062)"
            ]
          },
          "metadata": {},
          "execution_count": 41
        }
      ],
      "source": [
        "bcX, bcy = next(iter(test_dl))\n",
        "\n",
        "out = model(bcX.to(device))\n",
        "loss = loss_f(out.to('cpu'), bcy)\n",
        "out.max(dim=1)[1], bcy, loss.item()"
      ]
    },
    {
      "cell_type": "code",
      "execution_count": null,
      "metadata": {
        "id": "b_PB4aU-ylAw"
      },
      "outputs": [],
      "source": []
    }
  ],
  "metadata": {
    "colab": {
      "provenance": []
    },
    "kernelspec": {
      "display_name": "Python 3",
      "name": "python3"
    },
    "language_info": {
      "name": "python"
    },
    "accelerator": "GPU"
  },
  "nbformat": 4,
  "nbformat_minor": 0
}