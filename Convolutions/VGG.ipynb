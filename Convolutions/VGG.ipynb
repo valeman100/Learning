{
  "nbformat": 4,
  "nbformat_minor": 0,
  "metadata": {
    "colab": {
      "provenance": []
    },
    "kernelspec": {
      "name": "python3",
      "display_name": "Python 3"
    },
    "language_info": {
      "name": "python"
    },
    "accelerator": "GPU"
  },
  "cells": [
    {
      "cell_type": "code",
      "execution_count": 1,
      "metadata": {
        "colab": {
          "base_uri": "https://localhost:8080/"
        },
        "id": "5SYccV3pGcq_",
        "outputId": "fd806559-6ff3-4408-e431-03d20eafad5f"
      },
      "outputs": [
        {
          "output_type": "stream",
          "name": "stdout",
          "text": [
            "Cloning into 'Learning'...\n",
            "remote: Enumerating objects: 54, done.\u001b[K\n",
            "remote: Counting objects: 100% (54/54), done.\u001b[K\n",
            "remote: Compressing objects: 100% (36/36), done.\u001b[K\n",
            "remote: Total 54 (delta 12), reused 48 (delta 12), pack-reused 0\u001b[K\n",
            "Unpacking objects: 100% (54/54), done.\n"
          ]
        }
      ],
      "source": [
        "!rm -r /content/Learning\n",
        "!git clone https://github.com/valeman100/Learning.git\n",
        "import sys\n",
        "sys.path.append('/content/Learning/Fundamentals_For_Learning_Folder/') \n",
        "import Fundamentals_For_Learning as FFL\n",
        "from torch import nn"
      ]
    },
    {
      "cell_type": "code",
      "source": [
        "train_dl, val_dl, test_dl = FFL.data_preparation(batch=128, resize=(224,224))"
      ],
      "metadata": {
        "colab": {
          "base_uri": "https://localhost:8080/"
        },
        "id": "NQzBnyUlIi-u",
        "outputId": "9666a1ab-e24d-4e05-ae50-2c9b668549d5"
      },
      "execution_count": 2,
      "outputs": [
        {
          "output_type": "stream",
          "name": "stdout",
          "text": [
            "60000 10000 375 94 79\n"
          ]
        }
      ]
    },
    {
      "cell_type": "code",
      "source": [
        "def vgg_block(num_convs, out_channels):\n",
        "    layers = []\n",
        "    for _ in range(num_convs):\n",
        "        layers.append(nn.LazyConv2d(out_channels, kernel_size=3, padding=1))\n",
        "        layers.append(nn.ReLU())\n",
        "    layers.append(nn.MaxPool2d(kernel_size=2, stride=2))\n",
        "    return nn.Sequential(*layers)\n",
        "\n",
        "\n",
        "class VGG(FFL.LeNet):\n",
        "    def __init__(self, arch, num_classes=10):\n",
        "        super().__init__()\n",
        "        conv_blocks = []\n",
        "        in_channels = 1\n",
        "        for (num_convs, out_channels) in arch:\n",
        "            conv_blocks.append(vgg_block(num_convs, out_channels))\n",
        "        self.net = nn.Sequential(*conv_blocks, nn.Flatten(), \n",
        "                                 nn.LazyLinear(4096), nn.ReLU(), nn.Dropout(p=0.5),\n",
        "                                 nn.LazyLinear(4096), nn.ReLU(), nn.Dropout(p=0.5),\n",
        "                                 nn.LazyLinear(num_classes)\n",
        "                                 )\n",
        "\n"
      ],
      "metadata": {
        "id": "wV3aqCatIogn"
      },
      "execution_count": 3,
      "outputs": []
    },
    {
      "cell_type": "code",
      "source": [
        "model, loss_f = FFL.get_model(VGG(arch=((1, 64), (1, 128), (2, 256), (2, 512), (2, 512))), (1,1,224,224))"
      ],
      "metadata": {
        "colab": {
          "base_uri": "https://localhost:8080/"
        },
        "id": "xHWrD025JgLC",
        "outputId": "ef0a852f-020a-4326-98f4-6d40f0e4f650"
      },
      "execution_count": 4,
      "outputs": [
        {
          "output_type": "stream",
          "name": "stderr",
          "text": [
            "/usr/local/lib/python3.7/dist-packages/torch/nn/modules/lazy.py:178: UserWarning: Lazy modules are a new feature under heavy development so changes to the API or functionality can happen at any moment.\n",
            "  warnings.warn('Lazy modules are a new feature under heavy development '\n"
          ]
        },
        {
          "output_type": "stream",
          "name": "stdout",
          "text": [
            "X output shape:\t torch.Size([1, 1, 224, 224])\n",
            "Sequential output shape:\t torch.Size([1, 64, 112, 112])\n",
            "Sequential output shape:\t torch.Size([1, 128, 56, 56])\n",
            "Sequential output shape:\t torch.Size([1, 256, 28, 28])\n",
            "Sequential output shape:\t torch.Size([1, 512, 14, 14])\n",
            "Sequential output shape:\t torch.Size([1, 512, 7, 7])\n",
            "Flatten output shape:\t torch.Size([1, 25088])\n",
            "Linear output shape:\t torch.Size([1, 4096])\n",
            "ReLU output shape:\t torch.Size([1, 4096])\n",
            "Dropout output shape:\t torch.Size([1, 4096])\n",
            "Linear output shape:\t torch.Size([1, 4096])\n",
            "ReLU output shape:\t torch.Size([1, 4096])\n",
            "Dropout output shape:\t torch.Size([1, 4096])\n",
            "Linear output shape:\t torch.Size([1, 10])\n",
            "\n",
            " Number of parameters: 128806154\n"
          ]
        }
      ]
    },
    {
      "cell_type": "code",
      "source": [
        "train_loss, val_loss, acc = FFL.fit(train_dl, val_dl, test_dl, loss_f, model, lr=0.01, epochs=10)"
      ],
      "metadata": {
        "colab": {
          "base_uri": "https://localhost:8080/"
        },
        "id": "foS6WwHcJhUK",
        "outputId": "a1eb260a-88bd-499e-da58-280586a7f9da"
      },
      "execution_count": 5,
      "outputs": [
        {
          "output_type": "stream",
          "name": "stdout",
          "text": [
            "Epoch: 0, loss = 1.7425536338488261, v_loss = 0.6520234695140351, accuracy = 0.7480221390724182\n",
            "Epoch: 1, loss = 0.6386778601010641, v_loss = 0.4755707009041563, accuracy = 0.8161590099334717\n",
            "Epoch: 2, loss = 0.5000491422812144, v_loss = 0.4133224129042727, accuracy = 0.835344135761261\n",
            "Epoch: 3, loss = 0.43547659675280254, v_loss = 0.3703023889597426, accuracy = 0.8539358973503113\n",
            "Epoch: 4, loss = 0.3938241846958796, v_loss = 0.34091712312495454, accuracy = 0.8641218543052673\n",
            "Epoch: 5, loss = 0.36884004970391593, v_loss = 0.3286112916279346, accuracy = 0.8675830960273743\n",
            "Epoch: 6, loss = 0.3486682999531428, v_loss = 0.30952965816918837, accuracy = 0.8724287748336792\n",
            "Epoch: 7, loss = 0.33158938376108804, v_loss = 0.2894830776655928, accuracy = 0.8820213675498962\n",
            "Epoch: 8, loss = 0.3141127659479777, v_loss = 0.28139237457133354, accuracy = 0.8836036324501038\n",
            "Epoch: 9, loss = 0.30377171738942466, v_loss = 0.27053942895950156, accuracy = 0.8857792615890503\n"
          ]
        }
      ]
    },
    {
      "cell_type": "code",
      "source": [
        "#FFL.after_training_plots(train_loss, val_loss, acc)\n",
        "import matplotlib.pyplot as plt\n",
        "plt.plot(train_loss, label='training')\n",
        "plt.plot(val_loss, label='validation')\n",
        "plt.plot(acc, label='accuracy')\n",
        "\n",
        "plt.legend()\n",
        "plt.title('Losses')\n",
        "plt.xlabel(\"Epochs\")\n",
        "plt.show()"
      ],
      "metadata": {
        "colab": {
          "base_uri": "https://localhost:8080/",
          "height": 295
        },
        "id": "gIHNUyHwJpXa",
        "outputId": "09eeaf84-0030-47d2-8a03-76233028a7d6"
      },
      "execution_count": 8,
      "outputs": [
        {
          "output_type": "display_data",
          "data": {
            "text/plain": [
              "<Figure size 432x288 with 1 Axes>"
            ],
            "image/png": "[encoded data removed]"
          },
          "metadata": {
            "needs_background": "light"
          }
        }
      ]
    },
    {
      "cell_type": "code",
      "source": [
        "X, y = next(iter(test_dl))\n",
        "FFL.model_test(X, y, model)"
      ],
      "metadata": {
        "colab": {
          "base_uri": "https://localhost:8080/"
        },
        "id": "4VhkY7XxJr3x",
        "outputId": "52acc8a2-55ee-4c90-eb5e-698835861892"
      },
      "execution_count": 12,
      "outputs": [
        {
          "output_type": "stream",
          "name": "stdout",
          "text": [
            "prediction comparision:\n",
            "\n",
            " tensor([ True,  True,  True,  True,  True,  True,  True, False,  True,  True,\n",
            "         True,  True,  True,  True,  True,  True,  True,  True,  True,  True,\n",
            "         True,  True,  True,  True,  True,  True, False,  True,  True,  True,\n",
            "        False,  True,  True, False,  True,  True,  True, False,  True,  True,\n",
            "         True,  True,  True,  True,  True, False,  True,  True,  True,  True,\n",
            "         True,  True,  True,  True,  True,  True, False,  True,  True,  True,\n",
            "        False,  True,  True,  True,  True,  True,  True,  True,  True,  True,\n",
            "         True,  True,  True,  True,  True,  True,  True,  True,  True,  True,\n",
            "         True,  True, False,  True,  True,  True,  True,  True, False,  True,\n",
            "         True,  True,  True,  True,  True,  True, False,  True,  True,  True,\n",
            "         True,  True,  True,  True,  True, False,  True,  True,  True,  True,\n",
            "         True,  True,  True, False,  True,  True,  True,  True, False,  True,\n",
            "         True, False,  True,  True,  True,  True,  True,  True]) \n",
            "\n",
            "Accuracy = 0.8828125\n"
          ]
        }
      ]
    },
    {
      "cell_type": "code",
      "source": [
        "#FFL.torch.save(model.state_dict(), \"/content/Learning/VGG_trained.pt\")\n",
        "model.load_state_dict(FFL.torch.load(\"/content/Learning/VGG_trained.pt\"))"
      ],
      "metadata": {
        "id": "jz9t8F0gJvyQ"
      },
      "execution_count": 7,
      "outputs": []
    },
    {
      "cell_type": "code",
      "source": [],
      "metadata": {
        "id": "Z8Dhzt--f6Qa"
      },
      "execution_count": null,
      "outputs": []
    }
  ]
}