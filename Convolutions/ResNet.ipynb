{
  "nbformat": 4,
  "nbformat_minor": 0,
  "metadata": {
    "colab": {
      "provenance": []
    },
    "kernelspec": {
      "name": "python3",
      "display_name": "Python 3"
    },
    "language_info": {
      "name": "python"
    },
    "accelerator": "GPU"
  },
  "cells": [
    {
      "cell_type": "markdown",
      "source": [
        "If we want to bild deeper net we need to ensure espressiveness of our layers.\n",
        "More complex functions are not always related to more accurate results, this is true only for nested functions.\n"
      ],
      "metadata": {
        "id": "r8IRw1xkg-Rv"
      }
    },
    {
      "cell_type": "code",
      "source": [
        "!rm -r /content/Learning\n",
        "!git clone https://github.com/valeman100/Learning.git\n",
        "import sys\n",
        "sys.path.append('/content/Learning/Fundamentals_For_Learning_Folder/') \n",
        "import Fundamentals_For_Learning as FFL\n",
        "from torch import nn\n",
        "import torch"
      ],
      "metadata": {
        "colab": {
          "base_uri": "https://localhost:8080/"
        },
        "id": "37GJ1nK8srZi",
        "outputId": "22edc5dc-c470-461d-e1d1-aef095eac245"
      },
      "execution_count": 13,
      "outputs": [
        {
          "output_type": "stream",
          "name": "stdout",
          "text": [
            "rm: cannot remove '/content/Learning': No such file or directory\n",
            "Cloning into 'Learning'...\n",
            "remote: Enumerating objects: 115, done.\u001b[K\n",
            "remote: Counting objects: 100% (115/115), done.\u001b[K\n",
            "remote: Compressing objects: 100% (75/75), done.\u001b[K\n",
            "remote: Total 115 (delta 56), reused 87 (delta 34), pack-reused 0\u001b[K\n",
            "Receiving objects: 100% (115/115), 1.32 MiB | 21.80 MiB/s, done.\n",
            "Resolving deltas: 100% (56/56), done.\n"
          ]
        }
      ]
    },
    {
      "cell_type": "code",
      "source": [
        "train_dl, val_dl, test_dl = FFL.data_preparation(batch=128, resize=(96, 96))"
      ],
      "metadata": {
        "colab": {
          "base_uri": "https://localhost:8080/"
        },
        "id": "DJXEXNMvg9x1",
        "outputId": "ae634680-f33b-449e-ca09-81cd95e350cb"
      },
      "execution_count": 14,
      "outputs": [
        {
          "output_type": "stream",
          "name": "stdout",
          "text": [
            "60000 10000 375 94 79\n"
          ]
        }
      ]
    },
    {
      "cell_type": "code",
      "source": [
        "class Residual(nn.Module):\n",
        "    def __init__(self, num_channels, use_1x1_conv=False, strides=1):\n",
        "        super().__init__()\n",
        "        self.conv1 = nn.LazyConv2d(num_channels, kernel_size=3, padding=1, stride=strides)\n",
        "        self.conv2 = nn.LazyConv2d(num_channels, kernel_size=3, padding=1)\n",
        "        if use_1x1_conv:\n",
        "            self.conv3 = nn.LazyConv2d(num_channels, kernel_size=1, stride=strides)\n",
        "        else:\n",
        "            self.conv3 =None\n",
        "        self.bn1 = nn.LazyBatchNorm2d()\n",
        "        self.bn2 = nn.LazyBatchNorm2d()\n",
        "\n",
        "    def forward(self, X):\n",
        "        Y = F.relu(self.bn1(self.conv1(X)))\n",
        "        Y = self.bn2(self.conv2(Y))\n",
        "        if self.conv3:\n",
        "            X = self.conv3(X)\n",
        "        Y += X\n",
        "\n",
        "        return F.relu(Y)\n",
        "\n",
        "\n",
        "class ResNet(FFL.Classifier):\n",
        "    def __init__(self, arch, num_classes=10):\n",
        "        super().__init__()\n",
        "        self.net = nn.Sequential(self.b1())\n",
        "        for i, b in enumerate(arch):\n",
        "            # self.add_module(\"conv1\", Conv2d(3, 16, 5, padding=2))\n",
        "            self.net.add_module(f'b{i+2}', self.block(*b, first_block=(i==0)))\n",
        "        self.net.add_module(\"last\", nn.Sequential(\n",
        "            nn.AdaptiveAvgPool2d((1, 1)), nn.Flatten(), nn.LazyLinear(num_classes)))\n",
        "\n",
        "    def b1(self):\n",
        "        return nn.Sequential(\n",
        "            nn.LazyConv2d(64, kernel_size=7, stride=2, padding=3),\n",
        "            nn.LazyBatchNorm2d(), nn.ReLU(),\n",
        "            nn.MaxPool2d(kernel_size=3, stride=2, padding=1)\n",
        "        )\n",
        "\n",
        "    def block(self, num_residuals, num_channels, first_block=False):\n",
        "        blk = []\n",
        "        for i in range(num_residuals):\n",
        "            if i == 0 and not first_block:\n",
        "                blk.append(Residual(num_channels, use_1x1_conv=True, strides=2))\n",
        "            else:\n",
        "                blk.append(Residual(num_channels))\n",
        "        return nn.Sequential(*blk)\n",
        "\n",
        "class ResNet18(ResNet):\n",
        "    def __init__(self, num_classes=10):\n",
        "        super().__init__(((2, 64), (2, 128), (2, 256), (2, 512)), num_classes)\n"
      ],
      "metadata": {
        "id": "2FNx3sZHhGP7"
      },
      "execution_count": 15,
      "outputs": []
    },
    {
      "cell_type": "code",
      "source": [
        "model, loss_f = FFL.get_model(ResNet18(), (1, 1, 96, 96))"
      ],
      "metadata": {
        "id": "ROwvcdgBg9vc"
      },
      "execution_count": null,
      "outputs": []
    },
    {
      "cell_type": "code",
      "source": [
        "#for layers in model.net:\n",
        "    #for layer in layers:\n",
        "       # print(layer.__class__.__name__)\n",
        "        #for p in layer.parameters():\n",
        "           # if p.requires_grad:\n",
        "               # print(p.numel()) \n",
        "                # we have two values per layer because are weights and bias"
      ],
      "metadata": {
        "id": "tNqP4seWB4kP"
      },
      "execution_count": 25,
      "outputs": []
    },
    {
      "cell_type": "code",
      "source": [
        "train_loss, val_loss, acc = FFL.fit(train_dl, val_dl, test_dl, loss_f, model, lr=0.01, epochs=10)"
      ],
      "metadata": {
        "colab": {
          "base_uri": "https://localhost:8080/"
        },
        "id": "ls7_jqKxg9td",
        "outputId": "81fd3c84-2e92-417b-8a6b-60beeb3c3afb"
      },
      "execution_count": 26,
      "outputs": [
        {
          "output_type": "stream",
          "name": "stdout",
          "text": [
            "Epoch: 0, loss = 0.489726, v_loss = 0.33551, accuracy = 0.864616\n",
            "Epoch: 1, loss = 0.279907, v_loss = 0.264827, accuracy = 0.879648\n",
            "Epoch: 2, loss = 0.206895, v_loss = 0.259383, accuracy = 0.876483\n",
            "Epoch: 3, loss = 0.146886, v_loss = 0.229886, accuracy = 0.877769\n",
            "Epoch: 4, loss = 0.0928289, v_loss = 0.14239, accuracy = 0.889438\n",
            "Epoch: 5, loss = 0.0527878, v_loss = 0.0946681, accuracy = 0.899426\n",
            "Epoch: 6, loss = 0.0343433, v_loss = 0.0617519, accuracy = 0.903382\n",
            "Epoch: 7, loss = 0.0262253, v_loss = 0.070942, accuracy = 0.898932\n",
            "Epoch: 8, loss = 0.0194039, v_loss = 0.0538126, accuracy = 0.901602\n",
            "Epoch: 9, loss = 0.0209161, v_loss = 0.104654, accuracy = 0.890526\n"
          ]
        }
      ]
    },
    {
      "cell_type": "code",
      "source": [
        "FFL.after_training_plots(train_loss, val_loss, acc)\n",
        "X, y = next(iter(test_dl))\n",
        "FFL.model_test(X, y, model)\n",
        "FFL.torch.save(model.state_dict(), \"/content/Learning/ResNet18_trained.pt\")\n",
        "#model.load_state_dict(FFL.torch.load(\"/content/Learning/ResNet18_trained.pt\"))"
      ],
      "metadata": {
        "colab": {
          "base_uri": "https://localhost:8080/",
          "height": 597
        },
        "id": "2brHRZXig9rH",
        "outputId": "3aeb61fb-069c-447b-80fa-1971cd909d23"
      },
      "execution_count": 27,
      "outputs": [
        {
          "output_type": "display_data",
          "data": {
            "text/plain": [
              "<Figure size 432x288 with 1 Axes>"
            ],
            "image/png": "[encoded data removed]"
          },
          "metadata": {
            "needs_background": "light"
          }
        },
        {
          "output_type": "stream",
          "name": "stdout",
          "text": [
            "prediction comparison:\n",
            "\n",
            " tensor([ True,  True, False,  True,  True,  True,  True,  True, False,  True,\n",
            "         True,  True,  True,  True,  True, False,  True,  True,  True,  True,\n",
            "         True, False,  True,  True,  True,  True,  True,  True,  True,  True,\n",
            "        False,  True, False,  True,  True,  True,  True,  True, False,  True,\n",
            "         True,  True,  True,  True,  True,  True,  True, False,  True,  True,\n",
            "         True,  True,  True, False,  True,  True,  True,  True,  True,  True,\n",
            "         True,  True,  True,  True,  True,  True, False,  True,  True,  True,\n",
            "         True,  True,  True,  True,  True,  True,  True,  True,  True,  True,\n",
            "         True,  True,  True,  True,  True,  True,  True,  True,  True, False,\n",
            "         True,  True,  True, False, False,  True,  True,  True,  True,  True,\n",
            "         True,  True,  True, False,  True,  True,  True,  True,  True,  True,\n",
            "         True,  True,  True,  True,  True, False, False,  True,  True,  True,\n",
            "         True,  True, False,  True,  True,  True, False,  True]) \n",
            "\n",
            "Accuracy = 0.859375\n"
          ]
        }
      ]
    },
    {
      "cell_type": "code",
      "source": [
        "import time"
      ],
      "metadata": {
        "id": "EJqhM9DGzt1G"
      },
      "execution_count": 33,
      "outputs": []
    },
    {
      "cell_type": "code",
      "source": [
        "# time to load an epoch\n",
        "start = time.perf_counter()\n",
        "count = 0\n",
        "for b in train_dl:\n",
        "    count += 1\n",
        "end = time.perf_counter()\n",
        "print(end - start)"
      ],
      "metadata": {
        "colab": {
          "base_uri": "https://localhost:8080/"
        },
        "id": "L-DBxvqjg9ot",
        "outputId": "dbdc854f-138c-47ab-9f63-a019afd972a6"
      },
      "execution_count": 35,
      "outputs": [
        {
          "output_type": "stream",
          "name": "stdout",
          "text": [
            "18.74257307500011\n"
          ]
        }
      ]
    },
    {
      "cell_type": "code",
      "source": [],
      "metadata": {
        "id": "jIidNhU7g9mH"
      },
      "execution_count": null,
      "outputs": []
    }
  ]
}