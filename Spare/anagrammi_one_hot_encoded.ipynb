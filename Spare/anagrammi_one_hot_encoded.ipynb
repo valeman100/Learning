{
  "nbformat": 4,
  "nbformat_minor": 0,
  "metadata": {
    "colab": {
      "provenance": []
    },
    "kernelspec": {
      "name": "python3",
      "display_name": "Python 3"
    },
    "language_info": {
      "name": "python"
    }
  },
  "cells": [
    {
      "cell_type": "code",
      "execution_count": 4,
      "metadata": {
        "id": "Z1RGQ0z7sBDy"
      },
      "outputs": [],
      "source": [
        "strings = [\"face\", \"cafe\", \"name\", \"morning\", \"tuesday\", \"mane\", \"leap\", \"pale\"]"
      ]
    },
    {
      "cell_type": "code",
      "source": [
        "chars = ''\n",
        "\n",
        "for i in strings:\n",
        "    chars += i\n",
        "\n",
        "chars"
      ],
      "metadata": {
        "colab": {
          "base_uri": "https://localhost:8080/",
          "height": 36
        },
        "id": "b3j4Fxr3tRPa",
        "outputId": "31e109d1-b5e5-4015-d394-45eec5141aa8"
      },
      "execution_count": 5,
      "outputs": [
        {
          "output_type": "execute_result",
          "data": {
            "text/plain": [
              "'facecafenamemorningtuesdaymaneleappale'"
            ],
            "application/vnd.google.colaboratory.intrinsic+json": {
              "type": "string"
            }
          },
          "metadata": {},
          "execution_count": 5
        }
      ]
    },
    {
      "cell_type": "code",
      "source": [
        "vocab = {k:v for v, k in enumerate(sorted(set(chars)))}\n",
        "len(vocab)"
      ],
      "metadata": {
        "colab": {
          "base_uri": "https://localhost:8080/"
        },
        "id": "ByGzMdYtuOTS",
        "outputId": "8dea1c15-d4e6-4f52-c7c7-437c161898c9"
      },
      "execution_count": 15,
      "outputs": [
        {
          "output_type": "execute_result",
          "data": {
            "text/plain": [
              "17"
            ]
          },
          "metadata": {},
          "execution_count": 15
        }
      ]
    },
    {
      "cell_type": "code",
      "source": [
        "import torch as t \n",
        "\n",
        "OHE = t.zeros((len(strings), len(vocab)))\n",
        "\n",
        "for i, string in enumerate(strings):\n",
        "\n",
        "    for char in string:\n",
        "\n",
        "        idx = vocab[char]\n",
        "\n",
        "        OHE[i, idx ] = 1\n",
        "\n",
        "print(OHE)\n"
      ],
      "metadata": {
        "colab": {
          "base_uri": "https://localhost:8080/"
        },
        "id": "rLuTlnLlsGpx",
        "outputId": "ed2b8b12-5d27-4db9-909c-3a91c9787777"
      },
      "execution_count": 16,
      "outputs": [
        {
          "output_type": "stream",
          "name": "stdout",
          "text": [
            "tensor([[1., 1., 0., 1., 1., 0., 0., 0., 0., 0., 0., 0., 0., 0., 0., 0., 0.],\n",
            "        [1., 1., 0., 1., 1., 0., 0., 0., 0., 0., 0., 0., 0., 0., 0., 0., 0.],\n",
            "        [1., 0., 0., 1., 0., 0., 0., 0., 1., 1., 0., 0., 0., 0., 0., 0., 0.],\n",
            "        [0., 0., 0., 0., 0., 1., 1., 0., 1., 1., 1., 0., 1., 0., 0., 0., 0.],\n",
            "        [1., 0., 1., 1., 0., 0., 0., 0., 0., 0., 0., 0., 0., 1., 1., 1., 1.],\n",
            "        [1., 0., 0., 1., 0., 0., 0., 0., 1., 1., 0., 0., 0., 0., 0., 0., 0.],\n",
            "        [1., 0., 0., 1., 0., 0., 0., 1., 0., 0., 0., 1., 0., 0., 0., 0., 0.],\n",
            "        [1., 0., 0., 1., 0., 0., 0., 1., 0., 0., 0., 1., 0., 0., 0., 0., 0.]])\n"
          ]
        }
      ]
    },
    {
      "cell_type": "code",
      "source": [
        "for i in range(OHE.shape[0]):\n",
        "    for j in range(OHE.shape[0]):\n",
        "        if j>i:\n",
        "            if (OHE[i] == OHE[j]).all():\n",
        "                print(strings[i], strings[j])"
      ],
      "metadata": {
        "colab": {
          "base_uri": "https://localhost:8080/"
        },
        "id": "CMmRRcWAwl4m",
        "outputId": "2a4dd3e7-e4c7-4ab1-e8fb-c9a27b514542"
      },
      "execution_count": 24,
      "outputs": [
        {
          "output_type": "stream",
          "name": "stdout",
          "text": [
            "face cafe\n",
            "name mane\n",
            "leap pale\n"
          ]
        }
      ]
    },
    {
      "cell_type": "code",
      "source": [],
      "metadata": {
        "id": "DhBYOtlbyVYb"
      },
      "execution_count": null,
      "outputs": []
    }
  ]
}